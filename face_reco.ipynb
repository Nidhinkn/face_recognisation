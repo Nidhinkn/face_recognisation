{
 "cells": [
  {
   "cell_type": "code",
   "execution_count": 16,
   "metadata": {},
   "outputs": [],
   "source": [
    "# face identify cheyyan use chheyunnu\n",
    "import cv2"
   ]
  },
  {
   "cell_type": "code",
   "execution_count": 17,
   "metadata": {},
   "outputs": [],
   "source": [
    "# for class label: photo identify cheyyan\n",
    "def name_map(x):\n",
    "    if x=='sachin':\n",
    "        return 0\n",
    "    if x=='obama':\n",
    "        return 1\n",
    "    if x=='messi':\n",
    "        return 2"
   ]
  },
  {
   "cell_type": "code",
   "execution_count": 18,
   "metadata": {},
   "outputs": [],
   "source": [
    "def get_name(x):\n",
    "    if x==0:\n",
    "        return 'sachin'\n",
    "    if x==1:\n",
    "        return 'obama'\n",
    "    if x==2:\n",
    "        return 'messi'"
   ]
  },
  {
   "cell_type": "code",
   "execution_count": 19,
   "metadata": {},
   "outputs": [],
   "source": [
    "def detect_face(img):\n",
    "    gray=cv2.cvtColor(img,cv2.COLOR_BGR2GRAY)\n",
    "    face_cascade=cv2.CascadeClassifier(r'C:\\Users\\USER\\OneDrive\\Desktop\\DL projects\\Face recognisation\\haarcascade_frontalface.xml')\n",
    "    face=face_cascade.detectMultiScale(gray,minNeighbors=4)\n",
    "    if len(face)==0:\n",
    "        return None,None\n",
    "    x,y,w,h=face[0]\n",
    "    return gray[x:x+w,y:y+h],face[0]\n"
   ]
  },
  {
   "cell_type": "code",
   "execution_count": 20,
   "metadata": {},
   "outputs": [
    {
     "data": {
      "text/plain": [
       "(array([[ 20,  20,  19, ..., 184, 213, 180],\n",
       "        [ 19,  19,  19, ..., 192, 215, 179],\n",
       "        [ 19,  18,  18, ..., 201, 218, 196],\n",
       "        ...,\n",
       "        [  1,   1,   1, ..., 162, 156, 149],\n",
       "        [  1,   1,   1, ..., 164, 153, 139],\n",
       "        [  1,   1,   1, ..., 137, 150, 135]], dtype=uint8),\n",
       " array([83, 38, 92, 92]))"
      ]
     },
     "execution_count": 20,
     "metadata": {},
     "output_type": "execute_result"
    }
   ],
   "source": [
    "img=cv2.imread(r'C:\\Users\\USER\\OneDrive\\Desktop\\DL projects\\Face recognisation\\messi.jpg')\n",
    "detect_face(img)"
   ]
  },
  {
   "cell_type": "code",
   "execution_count": 21,
   "metadata": {},
   "outputs": [],
   "source": [
    "import os"
   ]
  },
  {
   "cell_type": "code",
   "execution_count": 22,
   "metadata": {},
   "outputs": [],
   "source": [
    "def prepare_training_data(data_folder):\n",
    "    dirs=os.listdir(data_folder)\n",
    "    # print(dirs)\n",
    "    faces=[]\n",
    "    labels=[]\n",
    "    for dir_name in dirs:  # dir=messi\n",
    "        sub_dir=data_folder+'/'+dir_name\n",
    "        # print(sub_dir)\n",
    "        images=os.listdir(sub_dir)\n",
    "        # print(images)\n",
    "        for img in images:\n",
    "            imgpath=sub_dir+'/'+img\n",
    "            # print(imgpath)\n",
    "            image=cv2.imread(imgpath)\n",
    "            cv2.imshow('training_images',image)\n",
    "            cv2.waitKey(2000) # 2000 milli second wait cheyyunnu\n",
    "cv2.waitKey(1) # 1 milli second\n",
    "cv2.destroyAllWindows()\n",
    "\n",
    "\n",
    "        "
   ]
  },
  {
   "cell_type": "code",
   "execution_count": 23,
   "metadata": {},
   "outputs": [
    {
     "name": "stdout",
     "output_type": "stream",
     "text": [
      "C:\\Users\\USER\\OneDrive\\Desktop\\DL projects\\Face recognisation\\db/messi\n",
      "['01.jpg', '02.jpg', '03.jpg', '04.jpg', '05.jpg', '06.jpg', '07.jpg', '08.jpg', '09.jpg', '10.jpg']\n",
      "C:\\Users\\USER\\OneDrive\\Desktop\\DL projects\\Face recognisation\\db/messi/01.jpg\n",
      "C:\\Users\\USER\\OneDrive\\Desktop\\DL projects\\Face recognisation\\db/messi/02.jpg\n",
      "C:\\Users\\USER\\OneDrive\\Desktop\\DL projects\\Face recognisation\\db/messi/03.jpg\n",
      "C:\\Users\\USER\\OneDrive\\Desktop\\DL projects\\Face recognisation\\db/messi/04.jpg\n",
      "C:\\Users\\USER\\OneDrive\\Desktop\\DL projects\\Face recognisation\\db/messi/05.jpg\n",
      "C:\\Users\\USER\\OneDrive\\Desktop\\DL projects\\Face recognisation\\db/messi/06.jpg\n",
      "C:\\Users\\USER\\OneDrive\\Desktop\\DL projects\\Face recognisation\\db/messi/07.jpg\n",
      "C:\\Users\\USER\\OneDrive\\Desktop\\DL projects\\Face recognisation\\db/messi/08.jpg\n",
      "C:\\Users\\USER\\OneDrive\\Desktop\\DL projects\\Face recognisation\\db/messi/09.jpg\n",
      "C:\\Users\\USER\\OneDrive\\Desktop\\DL projects\\Face recognisation\\db/messi/10.jpg\n",
      "C:\\Users\\USER\\OneDrive\\Desktop\\DL projects\\Face recognisation\\db/obama\n",
      "['01.jpg', '02.jpg', '03.jpg', '04.jpg', '05.jpg', '06.jpg', '07.jpg', '08.jpg', '09.jpg', '10.jpg']\n",
      "C:\\Users\\USER\\OneDrive\\Desktop\\DL projects\\Face recognisation\\db/obama/01.jpg\n",
      "C:\\Users\\USER\\OneDrive\\Desktop\\DL projects\\Face recognisation\\db/obama/02.jpg\n",
      "C:\\Users\\USER\\OneDrive\\Desktop\\DL projects\\Face recognisation\\db/obama/03.jpg\n",
      "C:\\Users\\USER\\OneDrive\\Desktop\\DL projects\\Face recognisation\\db/obama/04.jpg\n",
      "C:\\Users\\USER\\OneDrive\\Desktop\\DL projects\\Face recognisation\\db/obama/05.jpg\n",
      "C:\\Users\\USER\\OneDrive\\Desktop\\DL projects\\Face recognisation\\db/obama/06.jpg\n",
      "C:\\Users\\USER\\OneDrive\\Desktop\\DL projects\\Face recognisation\\db/obama/07.jpg\n",
      "C:\\Users\\USER\\OneDrive\\Desktop\\DL projects\\Face recognisation\\db/obama/08.jpg\n",
      "C:\\Users\\USER\\OneDrive\\Desktop\\DL projects\\Face recognisation\\db/obama/09.jpg\n",
      "C:\\Users\\USER\\OneDrive\\Desktop\\DL projects\\Face recognisation\\db/obama/10.jpg\n",
      "C:\\Users\\USER\\OneDrive\\Desktop\\DL projects\\Face recognisation\\db/sachin\n",
      "['01.jpg', '02.jpg', '03.jpg', '04.jpg', '05.jpg', '06.jpg', '07.jpg', '08.jpg', '09.jpg', '10.jpg']\n",
      "C:\\Users\\USER\\OneDrive\\Desktop\\DL projects\\Face recognisation\\db/sachin/01.jpg\n",
      "C:\\Users\\USER\\OneDrive\\Desktop\\DL projects\\Face recognisation\\db/sachin/02.jpg\n",
      "C:\\Users\\USER\\OneDrive\\Desktop\\DL projects\\Face recognisation\\db/sachin/03.jpg\n",
      "C:\\Users\\USER\\OneDrive\\Desktop\\DL projects\\Face recognisation\\db/sachin/04.jpg\n",
      "C:\\Users\\USER\\OneDrive\\Desktop\\DL projects\\Face recognisation\\db/sachin/05.jpg\n",
      "C:\\Users\\USER\\OneDrive\\Desktop\\DL projects\\Face recognisation\\db/sachin/06.jpg\n",
      "C:\\Users\\USER\\OneDrive\\Desktop\\DL projects\\Face recognisation\\db/sachin/07.jpg\n",
      "C:\\Users\\USER\\OneDrive\\Desktop\\DL projects\\Face recognisation\\db/sachin/08.jpg\n",
      "C:\\Users\\USER\\OneDrive\\Desktop\\DL projects\\Face recognisation\\db/sachin/09.jpg\n",
      "C:\\Users\\USER\\OneDrive\\Desktop\\DL projects\\Face recognisation\\db/sachin/10.jpg\n"
     ]
    }
   ],
   "source": [
    "prepare_training_data(r'C:\\Users\\USER\\OneDrive\\Desktop\\DL projects\\Face recognisation\\db')\n"
   ]
  },
  {
   "cell_type": "code",
   "execution_count": null,
   "metadata": {},
   "outputs": [],
   "source": []
  }
 ],
 "metadata": {
  "kernelspec": {
   "display_name": "Python 3",
   "language": "python",
   "name": "python3"
  },
  "language_info": {
   "codemirror_mode": {
    "name": "ipython",
    "version": 3
   },
   "file_extension": ".py",
   "mimetype": "text/x-python",
   "name": "python",
   "nbconvert_exporter": "python",
   "pygments_lexer": "ipython3",
   "version": "3.12.1"
  }
 },
 "nbformat": 4,
 "nbformat_minor": 2
}
